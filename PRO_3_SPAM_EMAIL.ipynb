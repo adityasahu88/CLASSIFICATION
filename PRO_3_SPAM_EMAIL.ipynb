{
 "cells": [
  {
   "cell_type": "code",
   "execution_count": null,
   "id": "07e2d4e9",
   "metadata": {},
   "outputs": [],
   "source": [
    "import pandas as pd\n",
    "import numpy as np\n",
    "import matplotlib.pyplot as plt\n",
    "import seaborn as sns\n",
    "from sklearn.preprocessing import MinMaxScaler\n",
    "from sklearn.model_selection import train_test_split\n",
    "from sklearn.linear_model import LogisticRegression\n",
    "from sklearn.metrics import accuracy_score,f1_score,recall_score,precision_score\n",
    "from sklearn.metrics import confusion_matrix,ConfusionMatrixDisplay"
   ]
  },
  {
   "cell_type": "code",
   "execution_count": null,
   "id": "23fef48a",
   "metadata": {},
   "outputs": [],
   "source": [
    "# Read DataSet\n",
    "raw_dataset =pd.read_csv(\"spam.csv\",encoding='latin1')"
   ]
  },
  {
   "cell_type": "code",
   "execution_count": null,
   "id": "acf0b7e3",
   "metadata": {},
   "outputs": [],
   "source": [
    "#Top 10 Rcords\n",
    "raw_dataset.head(10)"
   ]
  },
  {
   "cell_type": "code",
   "execution_count": null,
   "id": "9e0a449e",
   "metadata": {},
   "outputs": [],
   "source": [
    "# Drop Unwanted Columns\n",
    "raw_dataset.drop(columns=['Unnamed: 2','Unnamed: 3','Unnamed: 4'],axis=1,inplace=True)\n",
    "raw_dataset.head(10)"
   ]
  },
  {
   "cell_type": "code",
   "execution_count": null,
   "id": "94ccb2c3",
   "metadata": {},
   "outputs": [],
   "source": [
    "#Shape of Dataset \n",
    "raw_dataset.shape"
   ]
  },
  {
   "cell_type": "code",
   "execution_count": null,
   "id": "43250e40",
   "metadata": {},
   "outputs": [],
   "source": [
    "raw_dataset['v1'].value_counts()"
   ]
  },
  {
   "cell_type": "code",
   "execution_count": null,
   "id": "c9f8a4e8",
   "metadata": {},
   "outputs": [],
   "source": [
    "# Check Null values\n",
    "raw_dataset.isnull().sum()"
   ]
  },
  {
   "cell_type": "code",
   "execution_count": null,
   "id": "8ebf0b35",
   "metadata": {},
   "outputs": [],
   "source": [
    "raw_dataset.info()"
   ]
  },
  {
   "cell_type": "code",
   "execution_count": null,
   "id": "43db967c",
   "metadata": {},
   "outputs": [],
   "source": [
    "raw_dataset.describe()"
   ]
  },
  {
   "cell_type": "code",
   "execution_count": null,
   "id": "9e07b7fd",
   "metadata": {},
   "outputs": [],
   "source": [
    "mail_data=raw_dataset.where(pd.notnull(raw_dataset),'')"
   ]
  },
  {
   "cell_type": "code",
   "execution_count": null,
   "id": "1ca56be0",
   "metadata": {},
   "outputs": [],
   "source": [
    "#Rename column name\n",
    "mail_data.rename(columns={\"v1\":\"Category\",\"v2\":\"Message\"},inplace=True)"
   ]
  },
  {
   "cell_type": "code",
   "execution_count": null,
   "id": "34b4e055",
   "metadata": {},
   "outputs": [],
   "source": [
    "mail_data.head(5)"
   ]
  },
  {
   "cell_type": "code",
   "execution_count": null,
   "id": "58f8366b",
   "metadata": {},
   "outputs": [],
   "source": [
    "# Convert ham mail to 1 and spam mail to 0\n",
    "mail_data[\"Category\"].replace(\"ham\",1,inplace=True)\n",
    "mail_data[\"Category\"].replace(\"spam\",0,inplace=True)"
   ]
  },
  {
   "cell_type": "code",
   "execution_count": null,
   "id": "317a9127",
   "metadata": {},
   "outputs": [],
   "source": [
    "mail_data[\"Category\"].nunique()"
   ]
  },
  {
   "cell_type": "code",
   "execution_count": null,
   "id": "36bee744",
   "metadata": {},
   "outputs": [],
   "source": [
    "# Separating the Data in Text and labels\n",
    "X = mail_data[\"Message\"]\n",
    "Y =mail_data[\"Category\"]"
   ]
  },
  {
   "cell_type": "code",
   "execution_count": null,
   "id": "89482520",
   "metadata": {},
   "outputs": [],
   "source": [
    "## Spliting the Dataset and Training and Test Data\n",
    "X_train,X_test,Y_train,Y_test = train_test_split(X,Y,test_size=0.20,random_state=42)"
   ]
  },
  {
   "cell_type": "code",
   "execution_count": null,
   "id": "a3b11411",
   "metadata": {},
   "outputs": [],
   "source": [
    "# X's Data Shape\n",
    "print(X.shape)\n",
    "print(X_train.shape)\n",
    "print(X_test.shape)"
   ]
  },
  {
   "cell_type": "code",
   "execution_count": null,
   "id": "07c5a49a",
   "metadata": {},
   "outputs": [],
   "source": [
    "# Y's Data Shape\n",
    "print(Y.shape)\n",
    "print(Y_train.shape)\n",
    "print(Y_test.shape)"
   ]
  },
  {
   "cell_type": "code",
   "execution_count": null,
   "id": "fd21e439",
   "metadata": {},
   "outputs": [],
   "source": [
    "# Features Extraction\n",
    "from sklearn.feature_extraction.text import TfidfVectorizer\n",
    "feature_extraction =TfidfVectorizer(min_df=1,stop_words='english',lowercase='True')\n",
    "X_train_features= feature_extraction.fit_transform(X_train)\n",
    "X_test_features= feature_extraction.transform(X_test)\n",
    "\n",
    "# convert Y train and Y test dataset into integer\n",
    "\n",
    "Y_train =Y_train.astype('int')\n",
    "Y_test =Y_test.astype('int')"
   ]
  },
  {
   "cell_type": "code",
   "execution_count": null,
   "id": "7fa3bca6",
   "metadata": {},
   "outputs": [],
   "source": [
    "#print(X_train_features)\n",
    "print(X_test_features)"
   ]
  },
  {
   "cell_type": "code",
   "execution_count": null,
   "id": "f855ba4e",
   "metadata": {},
   "outputs": [],
   "source": [
    "# Training the model\n",
    "model = LogisticRegression()\n",
    "model.fit(X_train_features,Y_train)"
   ]
  },
  {
   "cell_type": "code",
   "execution_count": null,
   "id": "f995f8da",
   "metadata": {},
   "outputs": [],
   "source": [
    "# Evaluating the Training Model\n",
    "prediction_on_training_data = model.predict(X_train_features)\n",
    "accurracy_on_training_data = accuracy_score(prediction_on_training_data,Y_train)\n",
    "print(f\"The accuaracy on the training Data Set : {accurracy_on_training_data}\")"
   ]
  },
  {
   "cell_type": "code",
   "execution_count": null,
   "id": "f0d10727",
   "metadata": {},
   "outputs": [],
   "source": [
    "# Evaluating the Test Model\n",
    "prediction_on_test_data = model.predict(X_test_features)\n",
    "accurracy_on_test_data = accuracy_score(prediction_on_test_data,Y_test)\n",
    "print(f\"The accuaracy on the test Data Set : {accurracy_on_test_data}\")"
   ]
  },
  {
   "cell_type": "code",
   "execution_count": null,
   "id": "088123ea",
   "metadata": {},
   "outputs": [],
   "source": [
    "#Building predictive Model\n",
    "input_mail =[\" Hi Good Morning\"]\n",
    "\n",
    "# convert text to feature extraction\n",
    "input_data =feature_extraction.transform(input_mail)\n",
    "\n",
    "# making Prediction \n",
    "input_predict =model.predict(input_data)\n",
    "print(input_predict)\n",
    "if(input_predict[0]==1):\n",
    "    print(\"It is not a spam mail\")\n",
    "else :\n",
    "    print(\"It is a spam mail\")"
   ]
  },
  {
   "cell_type": "markdown",
   "id": "bec7bf7f",
   "metadata": {},
   "source": [
    "#### Term Frequency: Term frequency (TF) is a numerical statistic that indicates how often a term (word) appears in a document .\n",
    "\n",
    "#####  The term frequency of a term t in a document 𝑑 is calculated using the formula:\n",
    "\n",
    "#### TF(t,d)= Total number of terms in document d/Number of times term t appears in document d"
   ]
  },
  {
   "cell_type": "markdown",
   "id": "1c7175a5",
   "metadata": {},
   "source": [
    "#### IDF(t) = log_e(Total number of documents / Number of documents with term x in it)"
   ]
  },
  {
   "cell_type": "code",
   "execution_count": null,
   "id": "659e2aa8",
   "metadata": {},
   "outputs": [],
   "source": [
    "import matplotlib.pyplot as plt\n",
    "image = plt.imread('1_ALj6IYuGFr2PObkT5o1-rQ.webp')\n",
    "plt.imshow(image)\n",
    "plt.axis('off')  # Turn off axis\n",
    "plt.show()"
   ]
  },
  {
   "cell_type": "code",
   "execution_count": null,
   "id": "3653707e",
   "metadata": {},
   "outputs": [],
   "source": []
  }
 ],
 "metadata": {
  "kernelspec": {
   "display_name": "Python 3 (ipykernel)",
   "language": "python",
   "name": "python3"
  },
  "language_info": {
   "codemirror_mode": {
    "name": "ipython",
    "version": 3
   },
   "file_extension": ".py",
   "mimetype": "text/x-python",
   "name": "python",
   "nbconvert_exporter": "python",
   "pygments_lexer": "ipython3",
   "version": "3.9.13"
  }
 },
 "nbformat": 4,
 "nbformat_minor": 5
}
